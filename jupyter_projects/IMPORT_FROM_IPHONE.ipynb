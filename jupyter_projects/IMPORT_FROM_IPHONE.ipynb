{
 "cells": [
  {
   "cell_type": "markdown",
   "id": "b92827e1-b654-4c75-8371-6c08fa8706f3",
   "metadata": {},
   "source": [
    "# LTE Survey\n",
    "\n",
    "Ce programme traite les données géographiques du réseaux cellulaire 4G récoltées depuis un smartphone.\n",
    "Révision 2024 - sur iPhone 11 Pro \n",
    "\n",
    "### Organisation des données\n",
    "\n",
    "- Les données LTE seront extraites d'un fichier screencast du mode \"Field Test\" de l'iPhone\n",
    "- Les données GPS se trouvent dans un fichiers .gpx, issus d'une application de traçage telle que Wikiloc\n",
    "\n",
    "Les résulats:\n",
    "- Ce processus retourne un fichier CSV contenant les points localisé de mesure du Numéro de Cellule 4G : CellId\n",
    "\n",
    "### Remarques importantes\n",
    "\n",
    "- Toutes les dates sont naïves, et convertie en heures locales"
   ]
  },
  {
   "cell_type": "markdown",
   "id": "97f43706",
   "metadata": {},
   "source": [
    "---"
   ]
  },
  {
   "cell_type": "markdown",
   "id": "aae125c0",
   "metadata": {},
   "source": [
    "# Phase Initiale\n"
   ]
  },
  {
   "cell_type": "markdown",
   "id": "6689cfa2",
   "metadata": {},
   "source": []
  },
  {
   "cell_type": "markdown",
   "id": "725abdb2-d92d-4f68-9f59-e25527c21244",
   "metadata": {},
   "source": [
    "1. Entrez le numéro de Survey (par exemple: 202)\n",
    "2. Entrez le nom du dossier parent de ce Survey (par exemple: SURVEYS/Surveys_0200)\n",
    "3. Entrez la distance minimum retenue entre deux relevés GPS (20 - 100) [mètres]"
   ]
  },
  {
   "cell_type": "code",
   "execution_count": 6,
   "id": "b35e703e-be63-4e8f-8c01-f85cd3cdc82e",
   "metadata": {},
   "outputs": [
    {
     "name": "stdout",
     "output_type": "stream",
     "text": [
      "OCR Mode: MYOCR_PLUS\n",
      "Comment: coteau de Bernex - rampe de Chavant\n",
      "Exclusions: [[0, 0]]\n",
      "Survey Number: 313\n",
      "Screencast file: /Volumes/HOME/kDrive/DATA/LTE/SURVEYS/Net_01/03/10/Survey_0313/Survey_01_0313.mp4\n",
      "GPS file: /Volumes/HOME/kDrive/DATA/LTE/SURVEYS/Net_01/03/10/Survey_0313/Survey_01_0313.gpx\n"
     ]
    }
   ],
   "source": [
    "import sys\n",
    "import os\n",
    "\n",
    "# Get the directory of the notebook\n",
    "notebook_dir = os.getcwd()\n",
    "\n",
    "# Get the path to Folder corelte\n",
    "corelte_path = os.path.abspath(os.path.join(notebook_dir, '..'))\n",
    "\n",
    "# Add corelte to Python path\n",
    "sys.path.insert(0, corelte_path)\n",
    "\n",
    "from corelte.argument import Argument, OCRMode\n",
    "\n",
    "NETWORK_ID = 1     # 1=Swisscom; 4=Orange-F\n",
    "SURVEY_ID = 313\n",
    "\n",
    "#try:\n",
    "argument = Argument(NETWORK_ID, SURVEY_ID)\n",
    "#except Exception as e:\n",
    " #   raise Exception(\"\\033[91m\" + \"Erreur: \" + \"\\033[0m\" + str(e))\n",
    "\n",
    "argument.erase_png = False\n",
    "argument.erase_txt = False\n",
    "argument.OCRMode = OCRMode.MYOCR_PLUS\n",
    "argument.save_to_db = True\n",
    "argument.scale_factor = 0.5"
   ]
  },
  {
   "cell_type": "markdown",
   "id": "073828a3",
   "metadata": {},
   "source": [
    "# Traite les données\n",
    "Initialise le traitement"
   ]
  },
  {
   "cell_type": "code",
   "execution_count": 7,
   "id": "a2484404",
   "metadata": {},
   "outputs": [
    {
     "name": "stdout",
     "output_type": "stream",
     "text": [
      "2024-12-30 17:11:55,451 INFO sqlalchemy.engine.Engine select pg_catalog.version()\n",
      "2024-12-30 17:11:55,451 INFO sqlalchemy.engine.Engine [raw sql] {}\n",
      "2024-12-30 17:11:55,455 INFO sqlalchemy.engine.Engine select current_schema()\n",
      "2024-12-30 17:11:55,456 INFO sqlalchemy.engine.Engine [raw sql] {}\n",
      "2024-12-30 17:11:55,459 INFO sqlalchemy.engine.Engine show standard_conforming_strings\n",
      "2024-12-30 17:11:55,459 INFO sqlalchemy.engine.Engine [raw sql] {}\n",
      "2024-12-30 17:11:55,461 INFO sqlalchemy.engine.Engine BEGIN (implicit)\n",
      "2024-12-30 17:11:55,464 INFO sqlalchemy.engine.Engine SELECT pg_catalog.pg_class.relname \n",
      "FROM pg_catalog.pg_class JOIN pg_catalog.pg_namespace ON pg_catalog.pg_namespace.oid = pg_catalog.pg_class.relnamespace \n",
      "WHERE pg_catalog.pg_class.relname = %(table_name)s AND pg_catalog.pg_class.relkind = ANY (ARRAY[%(param_1)s, %(param_2)s, %(param_3)s, %(param_4)s, %(param_5)s]) AND pg_catalog.pg_table_is_visible(pg_catalog.pg_class.oid) AND pg_catalog.pg_namespace.nspname != %(nspname_1)s\n",
      "2024-12-30 17:11:55,464 INFO sqlalchemy.engine.Engine [generated in 0.00045s] {'table_name': 'cell', 'param_1': 'r', 'param_2': 'p', 'param_3': 'f', 'param_4': 'v', 'param_5': 'm', 'nspname_1': 'pg_catalog'}\n",
      "2024-12-30 17:11:55,470 INFO sqlalchemy.engine.Engine SELECT pg_catalog.pg_class.relname \n",
      "FROM pg_catalog.pg_class JOIN pg_catalog.pg_namespace ON pg_catalog.pg_namespace.oid = pg_catalog.pg_class.relnamespace \n",
      "WHERE pg_catalog.pg_class.relname = %(table_name)s AND pg_catalog.pg_class.relkind = ANY (ARRAY[%(param_1)s, %(param_2)s, %(param_3)s, %(param_4)s, %(param_5)s]) AND pg_catalog.pg_table_is_visible(pg_catalog.pg_class.oid) AND pg_catalog.pg_namespace.nspname != %(nspname_1)s\n",
      "2024-12-30 17:11:55,471 INFO sqlalchemy.engine.Engine [cached since 0.007081s ago] {'table_name': 'network', 'param_1': 'r', 'param_2': 'p', 'param_3': 'f', 'param_4': 'v', 'param_5': 'm', 'nspname_1': 'pg_catalog'}\n",
      "2024-12-30 17:11:55,472 INFO sqlalchemy.engine.Engine SELECT pg_catalog.pg_class.relname \n",
      "FROM pg_catalog.pg_class JOIN pg_catalog.pg_namespace ON pg_catalog.pg_namespace.oid = pg_catalog.pg_class.relnamespace \n",
      "WHERE pg_catalog.pg_class.relname = %(table_name)s AND pg_catalog.pg_class.relkind = ANY (ARRAY[%(param_1)s, %(param_2)s, %(param_3)s, %(param_4)s, %(param_5)s]) AND pg_catalog.pg_table_is_visible(pg_catalog.pg_class.oid) AND pg_catalog.pg_namespace.nspname != %(nspname_1)s\n",
      "2024-12-30 17:11:55,472 INFO sqlalchemy.engine.Engine [cached since 0.008384s ago] {'table_name': 'reading', 'param_1': 'r', 'param_2': 'p', 'param_3': 'f', 'param_4': 'v', 'param_5': 'm', 'nspname_1': 'pg_catalog'}\n",
      "2024-12-30 17:11:55,473 INFO sqlalchemy.engine.Engine SELECT pg_catalog.pg_class.relname \n",
      "FROM pg_catalog.pg_class JOIN pg_catalog.pg_namespace ON pg_catalog.pg_namespace.oid = pg_catalog.pg_class.relnamespace \n",
      "WHERE pg_catalog.pg_class.relname = %(table_name)s AND pg_catalog.pg_class.relkind = ANY (ARRAY[%(param_1)s, %(param_2)s, %(param_3)s, %(param_4)s, %(param_5)s]) AND pg_catalog.pg_table_is_visible(pg_catalog.pg_class.oid) AND pg_catalog.pg_namespace.nspname != %(nspname_1)s\n",
      "2024-12-30 17:11:55,473 INFO sqlalchemy.engine.Engine [cached since 0.009464s ago] {'table_name': 'sector', 'param_1': 'r', 'param_2': 'p', 'param_3': 'f', 'param_4': 'v', 'param_5': 'm', 'nspname_1': 'pg_catalog'}\n",
      "2024-12-30 17:11:55,474 INFO sqlalchemy.engine.Engine SELECT pg_catalog.pg_class.relname \n",
      "FROM pg_catalog.pg_class JOIN pg_catalog.pg_namespace ON pg_catalog.pg_namespace.oid = pg_catalog.pg_class.relnamespace \n",
      "WHERE pg_catalog.pg_class.relname = %(table_name)s AND pg_catalog.pg_class.relkind = ANY (ARRAY[%(param_1)s, %(param_2)s, %(param_3)s, %(param_4)s, %(param_5)s]) AND pg_catalog.pg_table_is_visible(pg_catalog.pg_class.oid) AND pg_catalog.pg_namespace.nspname != %(nspname_1)s\n",
      "2024-12-30 17:11:55,474 INFO sqlalchemy.engine.Engine [cached since 0.01068s ago] {'table_name': 'station', 'param_1': 'r', 'param_2': 'p', 'param_3': 'f', 'param_4': 'v', 'param_5': 'm', 'nspname_1': 'pg_catalog'}\n",
      "2024-12-30 17:11:55,475 INFO sqlalchemy.engine.Engine SELECT pg_catalog.pg_class.relname \n",
      "FROM pg_catalog.pg_class JOIN pg_catalog.pg_namespace ON pg_catalog.pg_namespace.oid = pg_catalog.pg_class.relnamespace \n",
      "WHERE pg_catalog.pg_class.relname = %(table_name)s AND pg_catalog.pg_class.relkind = ANY (ARRAY[%(param_1)s, %(param_2)s, %(param_3)s, %(param_4)s, %(param_5)s]) AND pg_catalog.pg_table_is_visible(pg_catalog.pg_class.oid) AND pg_catalog.pg_namespace.nspname != %(nspname_1)s\n",
      "2024-12-30 17:11:55,475 INFO sqlalchemy.engine.Engine [cached since 0.0116s ago] {'table_name': 'survey', 'param_1': 'r', 'param_2': 'p', 'param_3': 'f', 'param_4': 'v', 'param_5': 'm', 'nspname_1': 'pg_catalog'}\n",
      "2024-12-30 17:11:55,477 INFO sqlalchemy.engine.Engine COMMIT\n"
     ]
    }
   ],
   "source": [
    "from corelte.fusion import Fusion\n",
    "from corelte.helpers.helper import Helper\n",
    "from corelte.screencast import Screencast\n",
    "from corelte.track import Track\n",
    "from corelte.orm.db import db_engines\n",
    "from corelte.orm.models import Base\n",
    "\n",
    "fusion = Fusion(argument)\n",
    "helper = Helper()\n",
    "screencast = Screencast(argument)\n",
    "track = Track(argument)\n",
    "    \n",
    "#Base.metadata.drop_all(engine_test)\n",
    "Base.metadata.create_all(db_engines.main)\n"
   ]
  },
  {
   "cell_type": "markdown",
   "id": "00254b2e",
   "metadata": {},
   "source": [
    "### Traite les données GPS\n",
    "\n",
    "- Importe les coordonnées du GPS et les place dans une liste\n",
    "- Etand la liste gps avec des points extrapolés toutes les 1 seconde \n",
    "- Calcule la vitesse et la direction de chaque point\n",
    "- Sauve la liste du gps dans un fichier csv"
   ]
  },
  {
   "cell_type": "code",
   "execution_count": 8,
   "id": "d5a2f7af",
   "metadata": {},
   "outputs": [
    {
     "name": "stdout",
     "output_type": "stream",
     "text": [
      "Successfully processed 303 GPS points\n"
     ]
    }
   ],
   "source": [
    "track.read_gpx_file_into_lines_gps()\n",
    "track.extend_gps_records_to_every_second()\n",
    "track.calculate_speed_and_direction()\n",
    "helper.save_csv_file(track.lines_gps, screencast.argument.tmp_gps_filename)"
   ]
  },
  {
   "cell_type": "markdown",
   "id": "a6dad6a1",
   "metadata": {},
   "source": [
    "### Traite les données du Screencast\n",
    "\n",
    "Extrait une image par seconde du screencast (si pas déjà fait)"
   ]
  },
  {
   "cell_type": "code",
   "execution_count": 9,
   "id": "5034e619-3386-42fe-a33f-6e266a5a18c0",
   "metadata": {},
   "outputs": [],
   "source": [
    "screencast.split_video_into_frames()"
   ]
  },
  {
   "cell_type": "markdown",
   "id": "53c5190d-c531-4468-b812-0f3bd31e0701",
   "metadata": {},
   "source": [
    "Prépare la liste limitée des fichiers à passer à l'OCR"
   ]
  },
  {
   "cell_type": "code",
   "execution_count": 10,
   "id": "c915c195",
   "metadata": {},
   "outputs": [],
   "source": [
    "screencast.create_list_of_frames_to_ocr()"
   ]
  },
  {
   "cell_type": "markdown",
   "id": "452d1c77",
   "metadata": {},
   "source": [
    "Extrait le texte de l'image à l'aide de MYOCR ou Tesseract (si pas déjà fait)"
   ]
  },
  {
   "cell_type": "code",
   "execution_count": 11,
   "id": "f9378849",
   "metadata": {},
   "outputs": [],
   "source": [
    "# lit toutes les valeurs écrites sur l'image (en deux passes)\n",
    "\n",
    "if argument.OCRMode in [OCRMode.MYOCR, OCRMode.MYOCR_PLUS]:\n",
    "    screencast.process_myocr_on_frames()\n",
    "\n",
    "if argument.OCRMode == OCRMode.TESSERACT:\n",
    "    screencast.process_tesseract_on_frames()\n"
   ]
  },
  {
   "cell_type": "markdown",
   "id": "16c4df9b",
   "metadata": {},
   "source": [
    "Importe les données ocr du screencast"
   ]
  },
  {
   "cell_type": "code",
   "execution_count": 12,
   "id": "4b28a3d5",
   "metadata": {},
   "outputs": [
    {
     "name": "stdout",
     "output_type": "stream",
     "text": [
      " i=3 words[0]=16:02 time_str=16:02\n",
      " i=57 words[0]=16:03 time_str=16:03\n"
     ]
    }
   ],
   "source": [
    "\"\"\" screencast.process_video()\n",
    " \"\"\"\n",
    "if argument.OCRMode == OCRMode.MYOCR_PLUS:\n",
    "    screencast.read_filtred_frames_files_into_linesMp4()\n",
    "else:\n",
    "    screencast.read_frame_files_into_linesMp4()"
   ]
  },
  {
   "cell_type": "markdown",
   "id": "54c46971",
   "metadata": {},
   "source": [
    "Ajuste le temps pour chaque mesure à la seconde près"
   ]
  },
  {
   "cell_type": "code",
   "execution_count": 13,
   "id": "a1b7af41",
   "metadata": {},
   "outputs": [
    {
     "name": "stdout",
     "output_type": "stream",
     "text": [
      "first_non_null_mp4_reading_time 2024-12-24 16:02:00\n",
      "first_non_null_idx 3\n",
      "first_minute_change_dt 2024-12-24 16:03:00\n",
      "first_minute_change_idx 57\n",
      "-----------------\n",
      "first_non_null_mp4_reading_time 2024-12-24 16:02:06\n"
     ]
    }
   ],
   "source": [
    "screencast.set_precise_time_in_linesMp4_rows()"
   ]
  },
  {
   "cell_type": "markdown",
   "id": "e0d64b20",
   "metadata": {},
   "source": [
    "Sauve la liste du screencast"
   ]
  },
  {
   "cell_type": "code",
   "execution_count": 14,
   "id": "9e14d182",
   "metadata": {},
   "outputs": [],
   "source": [
    "helper.save_csv_file(screencast.linesMp4, screencast.argument.tmp_mp4_filename)"
   ]
  },
  {
   "cell_type": "markdown",
   "id": "7ee96162",
   "metadata": {},
   "source": [
    "# Fusionne les données"
   ]
  },
  {
   "cell_type": "code",
   "execution_count": 15,
   "id": "a1821aa0",
   "metadata": {},
   "outputs": [
    {
     "name": "stdout",
     "output_type": "stream",
     "text": [
      "Nb de lignes fusionnées=820\n"
     ]
    }
   ],
   "source": [
    "fusion.fusion_data(track.cursor, track.lines_gps, screencast.cursor, screencast.linesMp4)"
   ]
  },
  {
   "cell_type": "markdown",
   "id": "86996989",
   "metadata": {},
   "source": [
    "Ote les exclusions"
   ]
  },
  {
   "cell_type": "code",
   "execution_count": 16,
   "id": "516a1255",
   "metadata": {},
   "outputs": [
    {
     "name": "stdout",
     "output_type": "stream",
     "text": [
      "Nb de lignes avant l'exclusion=820\n",
      "Nb de lignes après les exclusions=820\n"
     ]
    }
   ],
   "source": [
    "fusion.apply_exclusions()"
   ]
  },
  {
   "cell_type": "markdown",
   "id": "d32b4d7c",
   "metadata": {},
   "source": [
    "Clarifie les points\n",
    "\n",
    "Les points sont trop nombreux (1 par seconde). On filtre les données en fonction d'une distance minimale entre eux et du changement de cellule s'il y a lieu."
   ]
  },
  {
   "cell_type": "code",
   "execution_count": 17,
   "id": "aa1eca5c",
   "metadata": {},
   "outputs": [],
   "source": [
    "fusion.clarify_with_minimum_distance2()"
   ]
  },
  {
   "cell_type": "markdown",
   "id": "e740abe9",
   "metadata": {},
   "source": [
    "Compense le retard de mesure dû à la vitesse"
   ]
  },
  {
   "cell_type": "code",
   "execution_count": 18,
   "id": "5925d21a",
   "metadata": {},
   "outputs": [],
   "source": [
    "fusion.apply_speed_compensation_to_linesFusion()"
   ]
  },
  {
   "cell_type": "markdown",
   "id": "41025a01",
   "metadata": {},
   "source": [
    "# Sauve les données"
   ]
  },
  {
   "cell_type": "code",
   "execution_count": 19,
   "id": "072a5cfe",
   "metadata": {},
   "outputs": [
    {
     "name": "stdout",
     "output_type": "stream",
     "text": [
      "DELETE FROM survey WHERE survey.network_id = :network_id_1 AND survey.survey_id = :survey_id_1\n",
      "2024-12-30 17:12:29,387 INFO sqlalchemy.engine.Engine BEGIN (implicit)\n",
      "2024-12-30 17:12:29,388 INFO sqlalchemy.engine.Engine DELETE FROM survey WHERE survey.network_id = %(network_id_1)s AND survey.survey_id = %(survey_id_1)s\n",
      "2024-12-30 17:12:29,388 INFO sqlalchemy.engine.Engine [generated in 0.00055s] {'network_id_1': 1, 'survey_id_1': 313}\n",
      "2024-12-30 17:12:29,407 INFO sqlalchemy.engine.Engine SELECT cell.network_id, cell.cell_id, cell.tac, ST_AsEWKB(cell.geom) AS geom \n",
      "FROM cell \n",
      "WHERE cell.network_id = %(network_id_1)s AND cell.cell_id = %(cell_id_1)s\n",
      "2024-12-30 17:12:29,407 INFO sqlalchemy.engine.Engine [generated in 0.00045s] {'network_id_1': 1, 'cell_id_1': 17522437}\n",
      "2024-12-30 17:12:29,428 INFO sqlalchemy.engine.Engine SELECT cell.network_id, cell.cell_id, cell.tac, ST_AsEWKB(cell.geom) AS geom \n",
      "FROM cell \n",
      "WHERE cell.network_id = %(network_id_1)s AND cell.cell_id = %(cell_id_1)s\n",
      "2024-12-30 17:12:29,428 INFO sqlalchemy.engine.Engine [cached since 0.02172s ago] {'network_id_1': 1, 'cell_id_1': 17522437}\n",
      "2024-12-30 17:12:29,430 INFO sqlalchemy.engine.Engine SELECT cell.network_id, cell.cell_id, cell.tac, ST_AsEWKB(cell.geom) AS geom \n",
      "FROM cell \n",
      "WHERE cell.network_id = %(network_id_1)s AND cell.cell_id = %(cell_id_1)s\n",
      "2024-12-30 17:12:29,430 INFO sqlalchemy.engine.Engine [cached since 0.0233s ago] {'network_id_1': 1, 'cell_id_1': 18302981}\n",
      "2024-12-30 17:12:29,431 INFO sqlalchemy.engine.Engine SELECT cell.network_id, cell.cell_id, cell.tac, ST_AsEWKB(cell.geom) AS geom \n",
      "FROM cell \n",
      "WHERE cell.network_id = %(network_id_1)s AND cell.cell_id = %(cell_id_1)s\n",
      "2024-12-30 17:12:29,431 INFO sqlalchemy.engine.Engine [cached since 0.02465s ago] {'network_id_1': 1, 'cell_id_1': 18302981}\n",
      "2024-12-30 17:12:29,432 INFO sqlalchemy.engine.Engine SELECT cell.network_id, cell.cell_id, cell.tac, ST_AsEWKB(cell.geom) AS geom \n",
      "FROM cell \n",
      "WHERE cell.network_id = %(network_id_1)s AND cell.cell_id = %(cell_id_1)s\n",
      "2024-12-30 17:12:29,433 INFO sqlalchemy.engine.Engine [cached since 0.02606s ago] {'network_id_1': 1, 'cell_id_1': 18302981}\n",
      "2024-12-30 17:12:29,434 INFO sqlalchemy.engine.Engine SELECT cell.network_id, cell.cell_id, cell.tac, ST_AsEWKB(cell.geom) AS geom \n",
      "FROM cell \n",
      "WHERE cell.network_id = %(network_id_1)s AND cell.cell_id = %(cell_id_1)s\n",
      "2024-12-30 17:12:29,434 INFO sqlalchemy.engine.Engine [cached since 0.02731s ago] {'network_id_1': 1, 'cell_id_1': 18302981}\n",
      "2024-12-30 17:12:29,435 INFO sqlalchemy.engine.Engine SELECT cell.network_id, cell.cell_id, cell.tac, ST_AsEWKB(cell.geom) AS geom \n",
      "FROM cell \n",
      "WHERE cell.network_id = %(network_id_1)s AND cell.cell_id = %(cell_id_1)s\n",
      "2024-12-30 17:12:29,435 INFO sqlalchemy.engine.Engine [cached since 0.02867s ago] {'network_id_1': 1, 'cell_id_1': 18235906}\n",
      "2024-12-30 17:12:29,437 INFO sqlalchemy.engine.Engine SELECT cell.network_id, cell.cell_id, cell.tac, ST_AsEWKB(cell.geom) AS geom \n",
      "FROM cell \n",
      "WHERE cell.network_id = %(network_id_1)s AND cell.cell_id = %(cell_id_1)s\n",
      "2024-12-30 17:12:29,437 INFO sqlalchemy.engine.Engine [cached since 0.0301s ago] {'network_id_1': 1, 'cell_id_1': 18235906}\n",
      "2024-12-30 17:12:29,438 INFO sqlalchemy.engine.Engine SELECT cell.network_id, cell.cell_id, cell.tac, ST_AsEWKB(cell.geom) AS geom \n",
      "FROM cell \n",
      "WHERE cell.network_id = %(network_id_1)s AND cell.cell_id = %(cell_id_1)s\n",
      "2024-12-30 17:12:29,438 INFO sqlalchemy.engine.Engine [cached since 0.03148s ago] {'network_id_1': 1, 'cell_id_1': 18326529}\n",
      "2024-12-30 17:12:29,443 INFO sqlalchemy.engine.Engine SELECT cell.network_id, cell.cell_id, cell.tac, ST_AsEWKB(cell.geom) AS geom \n",
      "FROM cell \n",
      "WHERE cell.network_id = %(network_id_1)s AND cell.cell_id = %(cell_id_1)s\n",
      "2024-12-30 17:12:29,444 INFO sqlalchemy.engine.Engine [cached since 0.03709s ago] {'network_id_1': 1, 'cell_id_1': 18326529}\n",
      "2024-12-30 17:12:29,449 INFO sqlalchemy.engine.Engine SELECT cell.network_id, cell.cell_id, cell.tac, ST_AsEWKB(cell.geom) AS geom \n",
      "FROM cell \n",
      "WHERE cell.network_id = %(network_id_1)s AND cell.cell_id = %(cell_id_1)s\n",
      "2024-12-30 17:12:29,451 INFO sqlalchemy.engine.Engine [cached since 0.04387s ago] {'network_id_1': 1, 'cell_id_1': 18326529}\n",
      "2024-12-30 17:12:29,455 INFO sqlalchemy.engine.Engine SELECT cell.network_id, cell.cell_id, cell.tac, ST_AsEWKB(cell.geom) AS geom \n",
      "FROM cell \n",
      "WHERE cell.network_id = %(network_id_1)s AND cell.cell_id = %(cell_id_1)s\n",
      "2024-12-30 17:12:29,456 INFO sqlalchemy.engine.Engine [cached since 0.04949s ago] {'network_id_1': 1, 'cell_id_1': 18301954}\n",
      "2024-12-30 17:12:29,457 INFO sqlalchemy.engine.Engine SELECT cell.network_id, cell.cell_id, cell.tac, ST_AsEWKB(cell.geom) AS geom \n",
      "FROM cell \n",
      "WHERE cell.network_id = %(network_id_1)s AND cell.cell_id = %(cell_id_1)s\n",
      "2024-12-30 17:12:29,458 INFO sqlalchemy.engine.Engine [cached since 0.05097s ago] {'network_id_1': 1, 'cell_id_1': 18301954}\n",
      "2024-12-30 17:12:29,459 INFO sqlalchemy.engine.Engine SELECT cell.network_id, cell.cell_id, cell.tac, ST_AsEWKB(cell.geom) AS geom \n",
      "FROM cell \n",
      "WHERE cell.network_id = %(network_id_1)s AND cell.cell_id = %(cell_id_1)s\n",
      "2024-12-30 17:12:29,459 INFO sqlalchemy.engine.Engine [cached since 0.05235s ago] {'network_id_1': 1, 'cell_id_1': 17593859}\n",
      "2024-12-30 17:12:29,462 INFO sqlalchemy.engine.Engine SELECT cell.network_id, cell.cell_id, cell.tac, ST_AsEWKB(cell.geom) AS geom \n",
      "FROM cell \n",
      "WHERE cell.network_id = %(network_id_1)s AND cell.cell_id = %(cell_id_1)s\n",
      "2024-12-30 17:12:29,463 INFO sqlalchemy.engine.Engine [cached since 0.05603s ago] {'network_id_1': 1, 'cell_id_1': 17593859}\n",
      "2024-12-30 17:12:29,464 INFO sqlalchemy.engine.Engine SELECT cell.network_id, cell.cell_id, cell.tac, ST_AsEWKB(cell.geom) AS geom \n",
      "FROM cell \n",
      "WHERE cell.network_id = %(network_id_1)s AND cell.cell_id = %(cell_id_1)s\n",
      "2024-12-30 17:12:29,464 INFO sqlalchemy.engine.Engine [cached since 0.05744s ago] {'network_id_1': 1, 'cell_id_1': 18301954}\n",
      "2024-12-30 17:12:29,465 INFO sqlalchemy.engine.Engine SELECT cell.network_id, cell.cell_id, cell.tac, ST_AsEWKB(cell.geom) AS geom \n",
      "FROM cell \n",
      "WHERE cell.network_id = %(network_id_1)s AND cell.cell_id = %(cell_id_1)s\n",
      "2024-12-30 17:12:29,465 INFO sqlalchemy.engine.Engine [cached since 0.05843s ago] {'network_id_1': 1, 'cell_id_1': 18301954}\n",
      "2024-12-30 17:12:29,466 INFO sqlalchemy.engine.Engine SELECT cell.network_id, cell.cell_id, cell.tac, ST_AsEWKB(cell.geom) AS geom \n",
      "FROM cell \n",
      "WHERE cell.network_id = %(network_id_1)s AND cell.cell_id = %(cell_id_1)s\n",
      "2024-12-30 17:12:29,466 INFO sqlalchemy.engine.Engine [cached since 0.05936s ago] {'network_id_1': 1, 'cell_id_1': 17967873}\n",
      "2024-12-30 17:12:29,467 INFO sqlalchemy.engine.Engine SELECT cell.network_id, cell.cell_id, cell.tac, ST_AsEWKB(cell.geom) AS geom \n",
      "FROM cell \n",
      "WHERE cell.network_id = %(network_id_1)s AND cell.cell_id = %(cell_id_1)s\n",
      "2024-12-30 17:12:29,467 INFO sqlalchemy.engine.Engine [cached since 0.06041s ago] {'network_id_1': 1, 'cell_id_1': 17967873}\n",
      "2024-12-30 17:12:29,468 INFO sqlalchemy.engine.Engine SELECT cell.network_id, cell.cell_id, cell.tac, ST_AsEWKB(cell.geom) AS geom \n",
      "FROM cell \n",
      "WHERE cell.network_id = %(network_id_1)s AND cell.cell_id = %(cell_id_1)s\n",
      "2024-12-30 17:12:29,468 INFO sqlalchemy.engine.Engine [cached since 0.06139s ago] {'network_id_1': 1, 'cell_id_1': 19706374}\n",
      "2024-12-30 17:12:29,469 INFO sqlalchemy.engine.Engine SELECT cell.network_id, cell.cell_id, cell.tac, ST_AsEWKB(cell.geom) AS geom \n",
      "FROM cell \n",
      "WHERE cell.network_id = %(network_id_1)s AND cell.cell_id = %(cell_id_1)s\n",
      "2024-12-30 17:12:29,469 INFO sqlalchemy.engine.Engine [cached since 0.06272s ago] {'network_id_1': 1, 'cell_id_1': 19706374}\n",
      "2024-12-30 17:12:29,471 INFO sqlalchemy.engine.Engine SELECT cell.network_id, cell.cell_id, cell.tac, ST_AsEWKB(cell.geom) AS geom \n",
      "FROM cell \n",
      "WHERE cell.network_id = %(network_id_1)s AND cell.cell_id = %(cell_id_1)s\n",
      "2024-12-30 17:12:29,471 INFO sqlalchemy.engine.Engine [cached since 0.06402s ago] {'network_id_1': 1, 'cell_id_1': 17522437}\n",
      "2024-12-30 17:12:29,472 INFO sqlalchemy.engine.Engine SELECT cell.network_id, cell.cell_id, cell.tac, ST_AsEWKB(cell.geom) AS geom \n",
      "FROM cell \n",
      "WHERE cell.network_id = %(network_id_1)s AND cell.cell_id = %(cell_id_1)s\n",
      "2024-12-30 17:12:29,472 INFO sqlalchemy.engine.Engine [cached since 0.06507s ago] {'network_id_1': 1, 'cell_id_1': 17522437}\n",
      "2024-12-30 17:12:29,473 INFO sqlalchemy.engine.Engine SELECT cell.network_id, cell.cell_id, cell.tac, ST_AsEWKB(cell.geom) AS geom \n",
      "FROM cell \n",
      "WHERE cell.network_id = %(network_id_1)s AND cell.cell_id = %(cell_id_1)s\n",
      "2024-12-30 17:12:29,473 INFO sqlalchemy.engine.Engine [cached since 0.06616s ago] {'network_id_1': 1, 'cell_id_1': 17522437}\n",
      "2024-12-30 17:12:29,474 INFO sqlalchemy.engine.Engine SELECT cell.network_id, cell.cell_id, cell.tac, ST_AsEWKB(cell.geom) AS geom \n",
      "FROM cell \n",
      "WHERE cell.network_id = %(network_id_1)s AND cell.cell_id = %(cell_id_1)s\n",
      "2024-12-30 17:12:29,474 INFO sqlalchemy.engine.Engine [cached since 0.06722s ago] {'network_id_1': 1, 'cell_id_1': 17522437}\n",
      "2024-12-30 17:12:29,475 INFO sqlalchemy.engine.Engine SELECT cell.network_id, cell.cell_id, cell.tac, ST_AsEWKB(cell.geom) AS geom \n",
      "FROM cell \n",
      "WHERE cell.network_id = %(network_id_1)s AND cell.cell_id = %(cell_id_1)s\n",
      "2024-12-30 17:12:29,475 INFO sqlalchemy.engine.Engine [cached since 0.06848s ago] {'network_id_1': 1, 'cell_id_1': 19706374}\n",
      "2024-12-30 17:12:29,476 INFO sqlalchemy.engine.Engine SELECT cell.network_id, cell.cell_id, cell.tac, ST_AsEWKB(cell.geom) AS geom \n",
      "FROM cell \n",
      "WHERE cell.network_id = %(network_id_1)s AND cell.cell_id = %(cell_id_1)s\n",
      "2024-12-30 17:12:29,476 INFO sqlalchemy.engine.Engine [cached since 0.06959s ago] {'network_id_1': 1, 'cell_id_1': 19706374}\n",
      "2024-12-30 17:12:29,477 INFO sqlalchemy.engine.Engine SELECT cell.network_id, cell.cell_id, cell.tac, ST_AsEWKB(cell.geom) AS geom \n",
      "FROM cell \n",
      "WHERE cell.network_id = %(network_id_1)s AND cell.cell_id = %(cell_id_1)s\n",
      "2024-12-30 17:12:29,477 INFO sqlalchemy.engine.Engine [cached since 0.07057s ago] {'network_id_1': 1, 'cell_id_1': 19706374}\n",
      "2024-12-30 17:12:29,478 INFO sqlalchemy.engine.Engine SELECT cell.network_id, cell.cell_id, cell.tac, ST_AsEWKB(cell.geom) AS geom \n",
      "FROM cell \n",
      "WHERE cell.network_id = %(network_id_1)s AND cell.cell_id = %(cell_id_1)s\n",
      "2024-12-30 17:12:29,478 INFO sqlalchemy.engine.Engine [cached since 0.07154s ago] {'network_id_1': 1, 'cell_id_1': 18261509}\n",
      "2024-12-30 17:12:29,479 INFO sqlalchemy.engine.Engine SELECT cell.network_id, cell.cell_id, cell.tac, ST_AsEWKB(cell.geom) AS geom \n",
      "FROM cell \n",
      "WHERE cell.network_id = %(network_id_1)s AND cell.cell_id = %(cell_id_1)s\n",
      "2024-12-30 17:12:29,479 INFO sqlalchemy.engine.Engine [cached since 0.0727s ago] {'network_id_1': 1, 'cell_id_1': 18261509}\n",
      "2024-12-30 17:12:29,480 INFO sqlalchemy.engine.Engine SELECT cell.network_id, cell.cell_id, cell.tac, ST_AsEWKB(cell.geom) AS geom \n",
      "FROM cell \n",
      "WHERE cell.network_id = %(network_id_1)s AND cell.cell_id = %(cell_id_1)s\n",
      "2024-12-30 17:12:29,480 INFO sqlalchemy.engine.Engine [cached since 0.07357s ago] {'network_id_1': 1, 'cell_id_1': 18261506}\n",
      "2024-12-30 17:12:29,481 INFO sqlalchemy.engine.Engine SELECT cell.network_id, cell.cell_id, cell.tac, ST_AsEWKB(cell.geom) AS geom \n",
      "FROM cell \n",
      "WHERE cell.network_id = %(network_id_1)s AND cell.cell_id = %(cell_id_1)s\n",
      "2024-12-30 17:12:29,481 INFO sqlalchemy.engine.Engine [cached since 0.07459s ago] {'network_id_1': 1, 'cell_id_1': 18261506}\n",
      "2024-12-30 17:12:29,482 INFO sqlalchemy.engine.Engine SELECT cell.network_id, cell.cell_id, cell.tac, ST_AsEWKB(cell.geom) AS geom \n",
      "FROM cell \n",
      "WHERE cell.network_id = %(network_id_1)s AND cell.cell_id = %(cell_id_1)s\n",
      "2024-12-30 17:12:29,482 INFO sqlalchemy.engine.Engine [cached since 0.07551s ago] {'network_id_1': 1, 'cell_id_1': 18261512}\n",
      "2024-12-30 17:12:29,483 INFO sqlalchemy.engine.Engine SELECT cell.network_id, cell.cell_id, cell.tac, ST_AsEWKB(cell.geom) AS geom \n",
      "FROM cell \n",
      "WHERE cell.network_id = %(network_id_1)s AND cell.cell_id = %(cell_id_1)s\n",
      "2024-12-30 17:12:29,483 INFO sqlalchemy.engine.Engine [cached since 0.07653s ago] {'network_id_1': 1, 'cell_id_1': 18261512}\n",
      "2024-12-30 17:12:29,484 INFO sqlalchemy.engine.Engine SELECT cell.network_id, cell.cell_id, cell.tac, ST_AsEWKB(cell.geom) AS geom \n",
      "FROM cell \n",
      "WHERE cell.network_id = %(network_id_1)s AND cell.cell_id = %(cell_id_1)s\n",
      "2024-12-30 17:12:29,484 INFO sqlalchemy.engine.Engine [cached since 0.07768s ago] {'network_id_1': 1, 'cell_id_1': 18989062}\n",
      "2024-12-30 17:12:29,485 INFO sqlalchemy.engine.Engine SELECT cell.network_id, cell.cell_id, cell.tac, ST_AsEWKB(cell.geom) AS geom \n",
      "FROM cell \n",
      "WHERE cell.network_id = %(network_id_1)s AND cell.cell_id = %(cell_id_1)s\n",
      "2024-12-30 17:12:29,486 INFO sqlalchemy.engine.Engine [cached since 0.07891s ago] {'network_id_1': 1, 'cell_id_1': 18989062}\n",
      "2024-12-30 17:12:29,487 INFO sqlalchemy.engine.Engine SELECT cell.network_id, cell.cell_id, cell.tac, ST_AsEWKB(cell.geom) AS geom \n",
      "FROM cell \n",
      "WHERE cell.network_id = %(network_id_1)s AND cell.cell_id = %(cell_id_1)s\n",
      "2024-12-30 17:12:29,487 INFO sqlalchemy.engine.Engine [cached since 0.08012s ago] {'network_id_1': 1, 'cell_id_1': 18989059}\n",
      "2024-12-30 17:12:29,488 INFO sqlalchemy.engine.Engine SELECT cell.network_id, cell.cell_id, cell.tac, ST_AsEWKB(cell.geom) AS geom \n",
      "FROM cell \n",
      "WHERE cell.network_id = %(network_id_1)s AND cell.cell_id = %(cell_id_1)s\n",
      "2024-12-30 17:12:29,488 INFO sqlalchemy.engine.Engine [cached since 0.08157s ago] {'network_id_1': 1, 'cell_id_1': 18989059}\n",
      "2024-12-30 17:12:29,489 INFO sqlalchemy.engine.Engine SELECT cell.network_id, cell.cell_id, cell.tac, ST_AsEWKB(cell.geom) AS geom \n",
      "FROM cell \n",
      "WHERE cell.network_id = %(network_id_1)s AND cell.cell_id = %(cell_id_1)s\n",
      "2024-12-30 17:12:29,489 INFO sqlalchemy.engine.Engine [cached since 0.08263s ago] {'network_id_1': 1, 'cell_id_1': 18989059}\n",
      "2024-12-30 17:12:29,490 INFO sqlalchemy.engine.Engine SELECT cell.network_id, cell.cell_id, cell.tac, ST_AsEWKB(cell.geom) AS geom \n",
      "FROM cell \n",
      "WHERE cell.network_id = %(network_id_1)s AND cell.cell_id = %(cell_id_1)s\n",
      "2024-12-30 17:12:29,490 INFO sqlalchemy.engine.Engine [cached since 0.08363s ago] {'network_id_1': 1, 'cell_id_1': 18989059}\n",
      "2024-12-30 17:12:29,491 INFO sqlalchemy.engine.Engine SELECT cell.network_id, cell.cell_id, cell.tac, ST_AsEWKB(cell.geom) AS geom \n",
      "FROM cell \n",
      "WHERE cell.network_id = %(network_id_1)s AND cell.cell_id = %(cell_id_1)s\n",
      "2024-12-30 17:12:29,491 INFO sqlalchemy.engine.Engine [cached since 0.08456s ago] {'network_id_1': 1, 'cell_id_1': 18989062}\n",
      "2024-12-30 17:12:29,492 INFO sqlalchemy.engine.Engine SELECT cell.network_id, cell.cell_id, cell.tac, ST_AsEWKB(cell.geom) AS geom \n",
      "FROM cell \n",
      "WHERE cell.network_id = %(network_id_1)s AND cell.cell_id = %(cell_id_1)s\n",
      "2024-12-30 17:12:29,492 INFO sqlalchemy.engine.Engine [cached since 0.0855s ago] {'network_id_1': 1, 'cell_id_1': 18989062}\n",
      "2024-12-30 17:12:29,493 INFO sqlalchemy.engine.Engine SELECT cell.network_id, cell.cell_id, cell.tac, ST_AsEWKB(cell.geom) AS geom \n",
      "FROM cell \n",
      "WHERE cell.network_id = %(network_id_1)s AND cell.cell_id = %(cell_id_1)s\n",
      "2024-12-30 17:12:29,493 INFO sqlalchemy.engine.Engine [cached since 0.08664s ago] {'network_id_1': 1, 'cell_id_1': 18989062}\n",
      "2024-12-30 17:12:29,494 INFO sqlalchemy.engine.Engine SELECT cell.network_id, cell.cell_id, cell.tac, ST_AsEWKB(cell.geom) AS geom \n",
      "FROM cell \n",
      "WHERE cell.network_id = %(network_id_1)s AND cell.cell_id = %(cell_id_1)s\n",
      "2024-12-30 17:12:29,494 INFO sqlalchemy.engine.Engine [cached since 0.08759s ago] {'network_id_1': 1, 'cell_id_1': 18989062}\n",
      "2024-12-30 17:12:29,495 INFO sqlalchemy.engine.Engine SELECT cell.network_id, cell.cell_id, cell.tac, ST_AsEWKB(cell.geom) AS geom \n",
      "FROM cell \n",
      "WHERE cell.network_id = %(network_id_1)s AND cell.cell_id = %(cell_id_1)s\n",
      "2024-12-30 17:12:29,495 INFO sqlalchemy.engine.Engine [cached since 0.08869s ago] {'network_id_1': 1, 'cell_id_1': 18989059}\n",
      "2024-12-30 17:12:29,496 INFO sqlalchemy.engine.Engine SELECT cell.network_id, cell.cell_id, cell.tac, ST_AsEWKB(cell.geom) AS geom \n",
      "FROM cell \n",
      "WHERE cell.network_id = %(network_id_1)s AND cell.cell_id = %(cell_id_1)s\n",
      "2024-12-30 17:12:29,497 INFO sqlalchemy.engine.Engine [cached since 0.08984s ago] {'network_id_1': 1, 'cell_id_1': 18989059}\n",
      "2024-12-30 17:12:29,497 INFO sqlalchemy.engine.Engine SELECT cell.network_id, cell.cell_id, cell.tac, ST_AsEWKB(cell.geom) AS geom \n",
      "FROM cell \n",
      "WHERE cell.network_id = %(network_id_1)s AND cell.cell_id = %(cell_id_1)s\n",
      "2024-12-30 17:12:29,498 INFO sqlalchemy.engine.Engine [cached since 0.09092s ago] {'network_id_1': 1, 'cell_id_1': 18989062}\n",
      "2024-12-30 17:12:29,499 INFO sqlalchemy.engine.Engine SELECT cell.network_id, cell.cell_id, cell.tac, ST_AsEWKB(cell.geom) AS geom \n",
      "FROM cell \n",
      "WHERE cell.network_id = %(network_id_1)s AND cell.cell_id = %(cell_id_1)s\n",
      "2024-12-30 17:12:29,499 INFO sqlalchemy.engine.Engine [cached since 0.09197s ago] {'network_id_1': 1, 'cell_id_1': 18989062}\n",
      "2024-12-30 17:12:29,500 INFO sqlalchemy.engine.Engine SELECT cell.network_id, cell.cell_id, cell.tac, ST_AsEWKB(cell.geom) AS geom \n",
      "FROM cell \n",
      "WHERE cell.network_id = %(network_id_1)s AND cell.cell_id = %(cell_id_1)s\n",
      "2024-12-30 17:12:29,500 INFO sqlalchemy.engine.Engine [cached since 0.09311s ago] {'network_id_1': 1, 'cell_id_1': 18989062}\n",
      "2024-12-30 17:12:29,501 INFO sqlalchemy.engine.Engine SELECT cell.network_id, cell.cell_id, cell.tac, ST_AsEWKB(cell.geom) AS geom \n",
      "FROM cell \n",
      "WHERE cell.network_id = %(network_id_1)s AND cell.cell_id = %(cell_id_1)s\n",
      "2024-12-30 17:12:29,501 INFO sqlalchemy.engine.Engine [cached since 0.09405s ago] {'network_id_1': 1, 'cell_id_1': 19217158}\n",
      "2024-12-30 17:12:29,502 INFO sqlalchemy.engine.Engine SELECT cell.network_id, cell.cell_id, cell.tac, ST_AsEWKB(cell.geom) AS geom \n",
      "FROM cell \n",
      "WHERE cell.network_id = %(network_id_1)s AND cell.cell_id = %(cell_id_1)s\n",
      "2024-12-30 17:12:29,502 INFO sqlalchemy.engine.Engine [cached since 0.09513s ago] {'network_id_1': 1, 'cell_id_1': 19217158}\n",
      "2024-12-30 17:12:29,503 INFO sqlalchemy.engine.Engine SELECT cell.network_id, cell.cell_id, cell.tac, ST_AsEWKB(cell.geom) AS geom \n",
      "FROM cell \n",
      "WHERE cell.network_id = %(network_id_1)s AND cell.cell_id = %(cell_id_1)s\n",
      "2024-12-30 17:12:29,503 INFO sqlalchemy.engine.Engine [cached since 0.09619s ago] {'network_id_1': 1, 'cell_id_1': 18706435}\n",
      "2024-12-30 17:12:29,504 INFO sqlalchemy.engine.Engine SELECT cell.network_id, cell.cell_id, cell.tac, ST_AsEWKB(cell.geom) AS geom \n",
      "FROM cell \n",
      "WHERE cell.network_id = %(network_id_1)s AND cell.cell_id = %(cell_id_1)s\n",
      "2024-12-30 17:12:29,504 INFO sqlalchemy.engine.Engine [cached since 0.09742s ago] {'network_id_1': 1, 'cell_id_1': 18706435}\n",
      "2024-12-30 17:12:29,505 INFO sqlalchemy.engine.Engine SELECT cell.network_id, cell.cell_id, cell.tac, ST_AsEWKB(cell.geom) AS geom \n",
      "FROM cell \n",
      "WHERE cell.network_id = %(network_id_1)s AND cell.cell_id = %(cell_id_1)s\n",
      "2024-12-30 17:12:29,505 INFO sqlalchemy.engine.Engine [cached since 0.09865s ago] {'network_id_1': 1, 'cell_id_1': 18989059}\n",
      "2024-12-30 17:12:29,506 INFO sqlalchemy.engine.Engine SELECT cell.network_id, cell.cell_id, cell.tac, ST_AsEWKB(cell.geom) AS geom \n",
      "FROM cell \n",
      "WHERE cell.network_id = %(network_id_1)s AND cell.cell_id = %(cell_id_1)s\n",
      "2024-12-30 17:12:29,506 INFO sqlalchemy.engine.Engine [cached since 0.09972s ago] {'network_id_1': 1, 'cell_id_1': 18989059}\n",
      "2024-12-30 17:12:29,507 INFO sqlalchemy.engine.Engine SELECT cell.network_id, cell.cell_id, cell.tac, ST_AsEWKB(cell.geom) AS geom \n",
      "FROM cell \n",
      "WHERE cell.network_id = %(network_id_1)s AND cell.cell_id = %(cell_id_1)s\n",
      "2024-12-30 17:12:29,507 INFO sqlalchemy.engine.Engine [cached since 0.1007s ago] {'network_id_1': 1, 'cell_id_1': 18989059}\n",
      "2024-12-30 17:12:29,508 INFO sqlalchemy.engine.Engine SELECT cell.network_id, cell.cell_id, cell.tac, ST_AsEWKB(cell.geom) AS geom \n",
      "FROM cell \n",
      "WHERE cell.network_id = %(network_id_1)s AND cell.cell_id = %(cell_id_1)s\n",
      "2024-12-30 17:12:29,508 INFO sqlalchemy.engine.Engine [cached since 0.1016s ago] {'network_id_1': 1, 'cell_id_1': 18989062}\n",
      "2024-12-30 17:12:29,509 INFO sqlalchemy.engine.Engine SELECT cell.network_id, cell.cell_id, cell.tac, ST_AsEWKB(cell.geom) AS geom \n",
      "FROM cell \n",
      "WHERE cell.network_id = %(network_id_1)s AND cell.cell_id = %(cell_id_1)s\n",
      "2024-12-30 17:12:29,509 INFO sqlalchemy.engine.Engine [cached since 0.1026s ago] {'network_id_1': 1, 'cell_id_1': 18989062}\n",
      "2024-12-30 17:12:29,511 INFO sqlalchemy.engine.Engine INSERT INTO survey (network_id, survey_id, survey_date, comment, device, os_version, model) VALUES (%(network_id)s, %(survey_id)s, %(survey_date)s, %(comment)s, %(device)s, %(os_version)s, %(model)s) RETURNING survey.uploaded\n",
      "2024-12-30 17:12:29,511 INFO sqlalchemy.engine.Engine [generated in 0.00021s] {'network_id': 1, 'survey_id': 313, 'survey_date': datetime.datetime(2024, 12, 24, 16, 1, 58), 'comment': 'coteau de Bernex - rampe de Chavant', 'device': 'iPhone 11 Pro', 'os_version': 'iOS 18.0.1', 'model': 'MWC62ZD/A - A2215'}\n",
      "2024-12-30 17:12:29,519 INFO sqlalchemy.engine.Engine INSERT INTO reading (network_id, cell_id, survey_id, pci, band, tac, file_idx, fwd_azimuth, speed, reading_time, geom) SELECT p0::INTEGER, p1::INTEGER, p2::INTEGER, p3::SMALLINT, p4::SMALLINT, p5::INTEGER, p6::SMALLINT, p7::FLOAT, p8::FLOAT, p9::TIME ... 12097 characters truncated ... p5, p6, p7, p8, p9, p10, sen_counter) ORDER BY sen_counter RETURNING reading.id, reading.id AS id__1\n",
      "2024-12-30 17:12:29,520 INFO sqlalchemy.engine.Engine [generated in 0.00060s (insertmanyvalues) 1/1 (ordered)] {'geom__0': 'SRID=4326;POINT (6.069618999999622 46.1697752)', 'band__0': 3, 'reading_time__0': datetime.datetime(2024, 12, 24, 16, 2, 6), 'speed__0': 0.5127672297609782, 'file_idx__0': 4, 'tac__0': 1803, 'network_id__0': 1, 'survey_id__0': 313, 'fwd_azimuth__0': 175.6813542713598, 'cell_id__0': 17522437, 'pci__0': None, 'geom__1': 'SRID=4326;POINT (6.069625000006936 46.16971999999393)', 'band__1': 1, 'reading_time__1': datetime.datetime(2024, 12, 24, 16, 2, 18), 'speed__1': 1.2143968181693732, 'file_idx__1': 16, 'tac__1': 1803, 'network_id__1': 1, 'survey_id__1': 313, 'fwd_azimuth__1': -104.84979804296654, 'cell_id__1': 17522437, 'pci__1': None, 'geom__2': 'SRID=4326;POINT (6.069609800006943 46.16971719999395)', 'band__2': 1, 'reading_time__2': datetime.datetime(2024, 12, 24, 16, 2, 19), 'speed__2': 1.2143968761864448, 'file_idx__2': 17, 'tac__2': 1803, 'network_id__2': 1, 'survey_id__2': 313, 'fwd_azimuth__2': -104.84979735363976, 'cell_id__2': 18302981, 'pci__2': None, 'geom__3': 'SRID=4326;POINT (6.068905000011019 46.16943499999407)', 'band__3': 1, 'reading_time__3': datetime.datetime(2024, 12, 24, 16, 3, 13), 'speed__3': 1.261777269754607, 'file_idx__3': 71, 'tac__3': 1803, 'network_id__3': 1, 'survey_id__3': 313, 'fwd_azimuth__3': -113.35466276500647, 'cell_id__3': 18302981, 'pci__3': None, 'geom__4': 'SRID=4326;POINT (6.06864120001251 46.168903399994704)', 'band__4': 1, 'reading_time__4': datetime.datetime(2024, 12, 24, 16, 4, 12), 'speed__4': 1.2501494757066407, 'file_idx__4': 130, 'tac__4': 1803 ... 538 parameters truncated ... 'tac__53': 1803, 'network_id__53': 1, 'survey_id__53': 313, 'fwd_azimuth__53': 110.25804085700415, 'cell_id__53': 18989059, 'pci__53': 276, 'geom__54': 'SRID=4326;POINT (6.081632000983915 46.1720099999003)', 'band__54': 7, 'reading_time__54': datetime.datetime(2024, 12, 24, 16, 15, 26), 'speed__54': 12.397425420352487, 'file_idx__54': 804, 'tac__54': 1803, 'network_id__54': 1, 'survey_id__54': 313, 'fwd_azimuth__54': 21.178593850614806, 'cell_id__54': 18989059, 'pci__54': 276, 'geom__55': 'SRID=4326;POINT (6.08180800016672 46.17235299997803)', 'band__55': 7, 'reading_time__55': datetime.datetime(2024, 12, 24, 16, 15, 28), 'speed__55': 4.597351732020528, 'file_idx__55': 806, 'tac__55': 1803, 'network_id__55': 1, 'survey_id__55': 313, 'fwd_azimuth__55': 28.05501182725714, 'cell_id__55': 18989059, 'pci__55': 276, 'geom__56': 'SRID=4326;POINT (6.08184200013995 46.1723999999811)', 'band__56': 7, 'reading_time__56': datetime.datetime(2024, 12, 24, 16, 15, 29), 'speed__56': 4.181645822194935, 'file_idx__56': 807, 'tac__56': 1803, 'network_id__56': 1, 'survey_id__56': 313, 'fwd_azimuth__56': 28.69456540388703, 'cell_id__56': 18989062, 'pci__56': 276, 'geom__57': 'SRID=4326;POINT (6.082160000000009 46.17275399999998)', 'band__57': 7, 'reading_time__57': datetime.datetime(2024, 12, 24, 16, 15, 45), 'speed__57': None, 'file_idx__57': 823, 'tac__57': 1803, 'network_id__57': 1, 'survey_id__57': 313, 'fwd_azimuth__57': None, 'cell_id__57': 18989062, 'pci__57': 276}\n",
      "2024-12-30 17:12:29,551 INFO sqlalchemy.engine.Engine COMMIT\n"
     ]
    },
    {
     "name": "stderr",
     "output_type": "stream",
     "text": [
      "/Volumes/HOME/mext/CODE/LTE/corelte/fusion.py:166: SAWarning: relationship 'Reading_orm.survey' will copy column survey.network_id to column reading.network_id, which conflicts with relationship(s): 'Reading_orm.cell' (copies cell.network_id to reading.network_id). If this is not the intention, consider if these relationships should be linked with back_populates, or if viewonly=True should be applied to one or more if they are read-only. For the less common case that foreign key constraints are partially overlapping, the orm.foreign() annotation can be used to isolate the columns that should be written towards.   To silence this warning, add the parameter 'overlaps=\"cell\"' to the 'Reading_orm.survey' relationship. (Background on this warning at: https://sqlalche.me/e/20/qzyx) (This warning originated from the `configure_mappers()` process, which was invoked automatically in response to a user-initiated operation.)\n",
      "  session.execute(stmt)\n"
     ]
    }
   ],
   "source": [
    "helper.save_csv_file(fusion.linesFusion, fusion.argument.csv_filename)\n",
    "\n",
    "if argument.save_to_db :\n",
    "    fusion.save_linesFusion_to_database(track.cursor.first_non_null_reading_time)"
   ]
  },
  {
   "cell_type": "markdown",
   "id": "c9377ef8",
   "metadata": {},
   "source": [
    "# Done"
   ]
  },
  {
   "cell_type": "markdown",
   "id": "f7297fe0",
   "metadata": {},
   "source": []
  }
 ],
 "metadata": {
  "kernelspec": {
   "display_name": "lte_env",
   "language": "python",
   "name": "python3"
  },
  "language_info": {
   "codemirror_mode": {
    "name": "ipython",
    "version": 3
   },
   "file_extension": ".py",
   "mimetype": "text/x-python",
   "name": "python",
   "nbconvert_exporter": "python",
   "pygments_lexer": "ipython3",
   "version": "3.12.4"
  }
 },
 "nbformat": 4,
 "nbformat_minor": 5
}
